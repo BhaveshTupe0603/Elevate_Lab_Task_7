{
  "nbformat": 4,
  "nbformat_minor": 0,
  "metadata": {
    "colab": {
      "provenance": [],
      "collapsed_sections": [
        "dnT1sefAhKMD"
      ]
    },
    "kernelspec": {
      "name": "python3",
      "display_name": "Python 3"
    },
    "language_info": {
      "name": "python"
    }
  },
  "cells": [
    {
      "cell_type": "markdown",
      "source": [
        "# 📌 **Introduction**\n",
        "\n",
        "\n",
        "---\n",
        "\n",
        "\n",
        "In this task, we aim to perform a basic sales data analysis using **SQLite** and **Python**. SQLite is a lightweight, serverless database engine built into Python, making it ideal for small-scale projects and learning purposes.\n",
        "\n",
        "We will:\n",
        "\n",
        "- Create a local SQLite database (`sales_data.db`) with a single `sales` table.\n",
        "- Execute SQL queries to calculate the total quantity sold and total revenue per product.\n",
        "- Use **Pandas** to load and process the query results.\n",
        "- Visualize the revenue data using a **bar chart** with **Matplotlib**.\n",
        "\n",
        "This task demonstrates how SQL and Python can be combined to perform effective data summarization and visualization.\n",
        "\n",
        "---"
      ],
      "metadata": {
        "id": "dnT1sefAhKMD"
      }
    },
    {
      "cell_type": "code",
      "execution_count": null,
      "metadata": {
        "id": "oe9l9q0zfWlq"
      },
      "outputs": [],
      "source": [
        "import sqlite3\n",
        "\n",
        "# Connect and create database\n",
        "conn = sqlite3.connect('sales_data.db')\n",
        "cursor = conn.cursor()\n",
        "\n",
        "# Create a sales table\n",
        "cursor.execute('''\n",
        "CREATE TABLE IF NOT EXISTS sales (\n",
        "    id INTEGER PRIMARY KEY AUTOINCREMENT,\n",
        "    product TEXT,\n",
        "    quantity INTEGER,\n",
        "    price REAL\n",
        ")\n",
        "''')\n",
        "\n",
        "# Insert  data\n",
        "sample_data = [\n",
        "    (\"Apples\", 30, 2.5),\n",
        "    (\"Bananas\", 50, 1.2),\n",
        "    (\"Oranges\", 40, 1.8),\n",
        "    (\"Apples\", 20, 2.5),\n",
        "    (\"Bananas\", 30, 1.2),\n",
        "    (\"Oranges\", 25, 1.8),\n",
        "    (\"Grapes\", 35, 3.0),\n",
        "    (\"Grapes\", 20, 3.0)\n",
        "]\n",
        "\n",
        "cursor.executemany(\"INSERT INTO sales (product, quantity, price) VALUES (?, ?, ?)\", sample_data)\n",
        "conn.commit()\n",
        "conn.close()\n"
      ]
    },
    {
      "cell_type": "code",
      "source": [
        "import sqlite3\n",
        "import pandas as pd\n",
        "import matplotlib.pyplot as plt\n",
        "\n",
        "# Load database\n",
        "conn = sqlite3.connect(\"sales_data.db\")\n",
        "\n",
        "# SQL query for basic summary\n",
        "query = \"\"\"\n",
        "SELECT product,\n",
        "       SUM(quantity) AS total_qty,\n",
        "       ROUND(SUM(quantity * price), 2) AS revenue\n",
        "FROM sales\n",
        "GROUP BY product\n",
        "\"\"\"\n",
        "\n",
        "# Load into DataFrame\n",
        "df = pd.read_sql_query(query, conn)\n",
        "conn.close()\n",
        "\n",
        "# Print output\n",
        "print(\"📦 Sales Summary:\")\n",
        "print(df)\n",
        "\n",
        "# Bar chart for revenue by product\n",
        "plt.figure(figsize=(8,5))\n",
        "df.plot(kind='bar', x='product', y='revenue', color='mediumseagreen', legend=False)\n",
        "plt.title('Revenue by Product')\n",
        "plt.xlabel('Product')\n",
        "plt.ylabel('Revenue')\n",
        "plt.tight_layout()\n",
        "plt.savefig(\"sales_chart.png\")\n",
        "plt.show()\n"
      ],
      "metadata": {
        "colab": {
          "base_uri": "https://localhost:8080/",
          "height": 609
        },
        "id": "Q0MNfdcAgaqc",
        "outputId": "d8ca4b66-e84c-4800-8255-dc8638a2478c"
      },
      "execution_count": null,
      "outputs": [
        {
          "output_type": "stream",
          "name": "stdout",
          "text": [
            "📦 Sales Summary:\n",
            "   product  total_qty  revenue\n",
            "0   Apples         50    125.0\n",
            "1  Bananas         80     96.0\n",
            "2   Grapes         55    165.0\n",
            "3  Oranges         65    117.0\n"
          ]
        },
        {
          "output_type": "display_data",
          "data": {
            "text/plain": [
              "<Figure size 800x500 with 0 Axes>"
            ]
          },
          "metadata": {}
        },
        {
          "output_type": "display_data",
          "data": {
            "text/plain": [
              "<Figure size 640x480 with 1 Axes>"
            ],
            "image/png": "[encoded data removed]"
          },
          "metadata": {}
        }
      ]
    },
    {
      "cell_type": "markdown",
      "source": [
        "### 📌 **Insights**\n",
        "\n",
        "- We used SQL queries to **summarize sales data** by aggregating total quantity and revenue per product.\n",
        "- The results were **successfully loaded into a Pandas DataFrame** for easy handling and display.\n",
        "- A **bar chart** provided a clear visual comparison of revenue generated by each product.\n",
        "- From the chart, we can easily identify which products contributed the most to total sales revenue.\n",
        "- This task showcased the practical integration of SQL and Python for small-scale **data analysis and reporting** workflows."
      ],
      "metadata": {
        "id": "A0GmnvGXhZnM"
      }
    }
  ]
}